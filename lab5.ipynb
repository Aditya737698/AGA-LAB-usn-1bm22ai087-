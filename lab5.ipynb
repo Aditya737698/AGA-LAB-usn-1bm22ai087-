{
  "cells": [
    {
      "cell_type": "code",
      "source": [
        "import numpy as np\n",
        "import matplotlib.pyplot as plt\n",
        "from sklearn.datasets import fetch_openml\n",
        "from sklearn.preprocessing import Binarizer\n",
        "\n",
        "class RBM:\n",
        "    def __init__(self, n_visible, n_hidden):\n",
        "        self.n_visible = n_visible\n",
        "        self.n_hidden = n_hidden\n",
        "        self.W = np.random.randn(n_visible, n_hidden) * 0.1\n",
        "        self.a = np.zeros(n_visible)\n",
        "        self.b = np.zeros(n_hidden)\n",
        "\n",
        "    def sample_h_given_v(self, v):\n",
        "        h_prob = 1 / (1 + np.exp(-(np.dot(v, self.W) + self.b)))\n",
        "        return h_prob, (h_prob > np.random.rand(*h_prob.shape)).astype(int)\n",
        "\n",
        "    def sample_v_given_h(self, h):\n",
        "        v_prob = 1 / (1 + np.exp(-(np.dot(h, self.W.T) + self.a)))\n",
        "        return v_prob, (v_prob > np.random.rand(*v_prob.shape)).astype(int)\n",
        "\n",
        "    def train(self, data, epochs=5, batch_size=100, learning_rate=0.1):\n",
        "        for epoch in range(epochs):\n",
        "            np.random.shuffle(data)\n",
        "            for i in range(0, len(data), batch_size):\n",
        "                batch = data[i:i + batch_size]\n",
        "                v0 = batch\n",
        "                h0_prob, h0 = self.sample_h_given_v(v0)\n",
        "                v1_prob, v1 = self.sample_v_given_h(h0)\n",
        "                h1_prob, h1 = self.sample_h_given_v(v1)\n",
        "\n",
        "                positive_grad = np.dot(v0.T, h0)\n",
        "                negative_grad = np.dot(v1.T, h1)\n",
        "\n",
        "                self.W += learning_rate * (positive_grad - negative_grad) / batch_size\n",
        "                self.a += learning_rate * np.mean(v0 - v1, axis=0)\n",
        "                self.b += learning_rate * np.mean(h0 - h1, axis=0)\n",
        "\n",
        "    def reconstruct(self, v):\n",
        "        h_prob, h = self.sample_h_given_v(v)\n",
        "        v_prob, v_reconstructed = self.sample_v_given_h(h)\n",
        "        return v_reconstructed\n",
        "\n",
        "def plot_reconstruction(original, reconstructed):\n",
        "    fig, ax = plt.subplots(1, 2, figsize=(10, 5))\n",
        "    ax[0].imshow(original.reshape(28, 28), cmap='gray')\n",
        "    ax[0].set_title('Original')\n",
        "    ax[1].imshow(reconstructed.reshape(28, 28), cmap='gray')\n",
        "    ax[1].set_title('Reconstructed')\n",
        "    plt.show()\n",
        "\n",
        "if __name__ == \"__main__\":\n",
        "    mnist = fetch_openml('mnist_784', version=1, parser=\"auto\")\n",
        "    data = mnist.data.to_numpy() / 255.0\n",
        "\n",
        "    binarizer = Binarizer(threshold=0.5)\n",
        "    data = binarizer.fit_transform(data)\n",
        "\n",
        "    rbm = RBM(n_visible=784, n_hidden=64)\n",
        "    rbm.train(data, epochs=5)\n",
        "\n",
        "    sample_idx = 0\n",
        "    sample = data[sample_idx]\n",
        "    reconstructed_sample = rbm.reconstruct(sample)\n",
        "\n",
        "    plot_reconstruction(sample, reconstructed_sample)\n"
      ],
      "metadata": {
        "colab": {
          "base_uri": "https://localhost:8080/",
          "height": 435
        },
        "id": "N5DtLpwgZzwu",
        "outputId": "cce1f7dc-76c7-4863-a47b-9f1c44ad9c48"
      },
      "execution_count": 6,
      "outputs": [
        {
          "output_type": "display_data",
          "data": {
            "text/plain": [
              "<Figure size 1000x500 with 2 Axes>"
            ],
            "image/png": "[encoded data removed]"
          },
          "metadata": {}
        }
      ]
    }
  ],
  "metadata": {
    "colab": {
      "toc_visible": true,
      "provenance": []
    },
    "kernelspec": {
      "display_name": "Python 3",
      "name": "python3"
    }
  },
  "nbformat": 4,
  "nbformat_minor": 0
}